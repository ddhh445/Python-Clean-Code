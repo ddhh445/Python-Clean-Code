{
 "cells": [
  {
   "cell_type": "markdown",
   "metadata": {},
   "source": [
    "- 데코레이터는 데코레이터 이후 나오는 것을 데코레이터의 첫 파라미터로 하고 데코레이터의 결과값을 반환하게하는 \"문법적 설탕\"\n",
    "- TMI: class 안에 있는 함수가 메서드. 즉 함수는 메서드를 포함하는 개념\n",
    "- for 루프에서 _ 를 쓰면 해당 변수에 관심 없음 뜻함\n"
   ]
  },
  {
   "cell_type": "markdown",
   "metadata": {},
   "source": [
    "### 함수 데코레이터"
   ]
  },
  {
   "cell_type": "code",
   "execution_count": 1,
   "metadata": {},
   "outputs": [],
   "source": [
    "def main_function():\n",
    "\tprint(\"메치카둘라\")"
   ]
  },
  {
   "cell_type": "markdown",
   "metadata": {},
   "source": [
    "위 함수에 추가적인 작업들을 더 넣고 싶습니다(주문 완성). 그러면  어떻게 해야 할까요?"
   ]
  },
  {
   "cell_type": "code",
   "execution_count": 2,
   "metadata": {},
   "outputs": [],
   "source": [
    "#간단하게는 함수를 다시 만들 수도 있습니다\n",
    "\n",
    "def main_function():\n",
    "\tprint(\"쌀라카둘라\")\n",
    "\tprint(\"메치카둘라\")\n",
    "\tprint(\"비비디바비디부\")\n"
   ]
  },
  {
   "cell_type": "markdown",
   "metadata": {},
   "source": [
    "만약 이런 식으로 추가적인 작업의 요구가 반복되는 상황에서 코드를 깔끔하게 만들고 싶다면 decorator를 사용할 수 있습니다. (실제 코딩에서는 추가 작업이 이렇게 단순하진 않습니다. )"
   ]
  },
  {
   "cell_type": "code",
   "execution_count": 3,
   "metadata": {},
   "outputs": [],
   "source": [
    "def main_decorator(func):\n",
    "\tdef decorated():\n",
    "\t\tprint(\"쌀라카둘라\")\n",
    "\t\tfunc()\n",
    "\t\tprint(\"비비디바비디부\")\n",
    "\treturn decorated"
   ]
  },
  {
   "cell_type": "code",
   "execution_count": 5,
   "metadata": {},
   "outputs": [],
   "source": [
    "@main_decorator\n",
    "def main_function():\n",
    "\tprint(\"메치카둘라\")\n",
    "\n",
    "@main_decorator\n",
    "def sub_function():\n",
    "\tprint(\"압살라둘라\")"
   ]
  },
  {
   "cell_type": "code",
   "execution_count": 7,
   "metadata": {},
   "outputs": [
    {
     "name": "stdout",
     "output_type": "stream",
     "text": [
      "쌀라카둘라\n",
      "메치카둘라\n",
      "비비디바비디부\n"
     ]
    }
   ],
   "source": [
    "main_function()"
   ]
  },
  {
   "cell_type": "code",
   "execution_count": 8,
   "metadata": {},
   "outputs": [
    {
     "name": "stdout",
     "output_type": "stream",
     "text": [
      "쌀라카둘라\n",
      "압살라둘라\n",
      "비비디바비디부\n"
     ]
    }
   ],
   "source": [
    "sub_function()"
   ]
  },
  {
   "cell_type": "markdown",
   "metadata": {},
   "source": [
    "데코레이터를 class로 사용하고 싶다면 __call__ 함수로 decorator 형식을 정의해주면 됩니다. "
   ]
  },
  {
   "cell_type": "code",
   "execution_count": 9,
   "metadata": {},
   "outputs": [],
   "source": [
    "class leetawonclass:\n",
    "\n",
    "        def __init__(self, f):\n",
    "\n",
    "                self.func = f\n",
    "\n",
    "\n",
    "\n",
    "        def __call__(self, *args, **kwargs):\n",
    "\n",
    "                print(\"쌀라카둘라\")\n",
    "\n",
    "                self.func(*args, **kwargs)\n",
    "\n",
    "                print(\"비비디바비디부\")\n"
   ]
  },
  {
   "cell_type": "code",
   "execution_count": 10,
   "metadata": {},
   "outputs": [],
   "source": [
    "@leetawonclass\n",
    "def main_function():\n",
    "\tprint(\"메치카둘라\")\n",
    "\n",
    "@leetawonclass\n",
    "def sub_function():\n",
    "\tprint(\"압살라둘라\")"
   ]
  },
  {
   "cell_type": "code",
   "execution_count": 11,
   "metadata": {},
   "outputs": [
    {
     "name": "stdout",
     "output_type": "stream",
     "text": [
      "쌀라카둘라\n",
      "메치카둘라\n",
      "비비디바비디부\n"
     ]
    }
   ],
   "source": [
    "main_function()"
   ]
  },
  {
   "cell_type": "markdown",
   "metadata": {},
   "source": [
    "데코레이터가 단지 함수나 메서드, 클래스에만 적용된다고 생각하면 오산\n",
    "\n",
    "사실 제너레이터나 코루틴, 심지어 데코레이트된 객체도 데코레이트 가능"
   ]
  },
  {
   "cell_type": "markdown",
   "metadata": {},
   "source": [
    "### 데코레이터에 인자 전달"
   ]
  },
  {
   "cell_type": "markdown",
   "metadata": {},
   "source": [
    "@name_decorator(\"정우성\")\n",
    "def greeting():\n",
    "    return \"Hello, \"\n",
    "\n",
    "greeting()\n",
    ">>> \"Hello, 정우성\""
   ]
  },
  {
   "cell_type": "markdown",
   "metadata": {},
   "source": [
    "기본 형태의 데코레이터 사용방법을 보면 @name_decorator처럼 코드를 작성할 때 따로 인자를 받지 않고, 아래에 위치한 함수가 실행이 되면 인자로 해당 함수를 받아 실행하는 형태를 띕니다."
   ]
  },
  {
   "cell_type": "markdown",
   "metadata": {},
   "source": [
    "근데 문제에는 코드를 작성할 때 인자를 받는 함수 형태로 작성이 되어 있으니, 기본 형태의 decorator를 감싸는 한 단계 위의 함수가 또 필요합니다. @name_decorator(\"정우성\") 이 형태가 기본 형태의 decorator역할을 해야하니, (\"정우성\")을 인자로 받는 name_decorator 함수가 별개로 필요한거죠"
   ]
  },
  {
   "cell_type": "code",
   "execution_count": 16,
   "metadata": {},
   "outputs": [],
   "source": [
    "#그래서 작성된 코드\n",
    "def name_decorator(name): #  decorator에 인자로 붙은 (\"장동건\")을 처리할 새로운 함수 부분\n",
    "    def real_decorator(func): # 기본 형태의 decorator가 역할을 하는 부분\n",
    "        def wrap(*args,**kwargs):\n",
    "            return func(*args,**kwargs) + name\n",
    "        return wrap\n",
    "    return real_decorator\n",
    "\n",
    "\n",
    "@name_decorator(\"김동현\")\n",
    "def greeting():\n",
    "      return \"Hello, \""
   ]
  },
  {
   "cell_type": "code",
   "execution_count": 17,
   "metadata": {},
   "outputs": [
    {
     "data": {
      "text/plain": [
       "'Hello, 김동현'"
      ]
     },
     "execution_count": 17,
     "metadata": {},
     "output_type": "execute_result"
    }
   ],
   "source": [
    "greeting()"
   ]
  },
  {
   "cell_type": "markdown",
   "metadata": {},
   "source": [
    "#### 데코레이터에 인자 전달\n",
    "- 파라미터를 갖는 데코레이터를 구현하는 방법\n",
    "- 데코레이터 파라미터를 처리하기 위해 파라미터 처리하는 함수를 하나를 추가해서 처리"
   ]
  },
  {
   "cell_type": "markdown",
   "metadata": {},
   "source": [
    "간접 참조(indirection)를 통해 새로운 레벨의 중첩 함수 만들기\n",
    "    - 첫 번째 함수 : 파라미터를 받아서 내부 함수에 전달\n",
    "    - 두 번째 함수 : 데코레이터가 될 함수\n",
    "    - 세 번째 함수 : 데코레이팅의 결과를 반환하는 함수\n"
   ]
  },
  {
   "cell_type": "markdown",
   "metadata": {},
   "source": [
    "- [참고] @wraps 를 쓰는 이유 : 데코레이터 내부에서 인자로 전달받은 함수가 익명함수 처럼 취급되어 버리므로 디버깅이 난해해지는 단점이 있기 때문 (뒤에서 다시 설명)"
   ]
  },
  {
   "cell_type": "code",
   "execution_count": 30,
   "metadata": {},
   "outputs": [],
   "source": [
    "from functools import wraps\n",
    "def my_decorator0(x):\n",
    "\tdef my_decorator1(f):\n",
    "\t\t@wraps(f)\n",
    "\t\tdef wrapper(*args, **kwds):\n",
    "\t\t\tprint('baegopa',x)\n",
    "\t\t\treturn f(*args, **kwds)\n",
    "\t\treturn wrapper\n",
    "\treturn my_decorator1"
   ]
  },
  {
   "cell_type": "code",
   "execution_count": 34,
   "metadata": {},
   "outputs": [
    {
     "name": "stdout",
     "output_type": "stream",
     "text": [
      "baegopa DangNi\n",
      "Called example function\n"
     ]
    }
   ],
   "source": [
    "@my_decorator0('DangNi')\n",
    "def example1():\n",
    "\t'''Docstring'''\n",
    "\tprint('Called example function')\n",
    "example1()"
   ]
  },
  {
   "cell_type": "markdown",
   "metadata": {},
   "source": [
    "### 데코레이터 활용 우수 사례\n",
    "데코레이터가 사용되는 예제는 수 없이 많지만 가장 관련성이 높은 몇 가지만 소개한다. \n",
    "\n",
    "- 파라미터 변환 - 유사한 객체를 반복 생성하거나 추상화를 위해 유사한 변형을 반복하는 경우\n",
    "\n",
    "- 코드 추적 - 실행 함수 로깅, 지표 모니터링(CPU 사용량 등), 함수 실행 시간 측정, 파라미터 로깅 등\n",
    "\n",
    "- 파라미터 유효성 검사\n",
    "\n",
    "- 재시도 로직 구현\n",
    "\n",
    "- 일부 반복 작업을 데코레이터로 이동하여 클래스 단순화"
   ]
  },
  {
   "cell_type": "markdown",
   "metadata": {},
   "source": [
    "일반적으로 데코레이터는 로그를 남기거나 유저의 로그인 상태등을 확인하여 로그인 상태가 아니면 로그인 페이지로 리더랙트(redirect)하기 위해서 많이 사용됩니다. 또한 프로그램의 성능을 테스트하기 위해서도 많이 쓰입니다. 리눅스나 유닉스 서버 관리자는 스크립트가 실행되는 시간을 측정하기 위해서 다음과 같은 date와 time 명령어를 많이 사용합니다."
   ]
  },
  {
   "cell_type": "code",
   "execution_count": null,
   "metadata": {},
   "outputs": [],
   "source": [
    "# -*- coding: utf-8 -*-\n",
    "import datetime\n",
    "import time\n",
    "\n",
    "def my_logger(original_function):\n",
    "    import logging\n",
    "    logging.basicConfig(filename='{}.log'.format(original_function.__name__), level=logging.INFO)\n",
    "    \n",
    "    def wrapper(*args, **kwargs):\n",
    "        timestamp = datetime.datetime.now().strftime('%Y-%m-%d %H:%M')\n",
    "        logging.info(\n",
    "            '[{}] 실행결과 args - {}, kwargs - {}'.format(timestamp, args, kwargs))\n",
    "        return original_function(*args, **kwargs)\n",
    "\n",
    "    return wrapper\n",
    "\n",
    "@my_logger\n",
    "def display_info(name, age):\n",
    "    time.sleep(1)\n",
    "    print 'display_info({}, {}) 함수가 실행됐습니다.'.format(name, age)\n",
    "\n",
    "display_info('John', 25)\n"
   ]
  },
  {
   "cell_type": "markdown",
   "metadata": {},
   "source": [
    "위의 코드를 실행하면, 터미널에 다음과 같이 출력되고 '[decorator.py](http://decorator.py/)' 파이썬 파일이 저장된 디렉터리에 'display_info.log'라는 이름의 로그 파일이 생성될 겁니다."
   ]
  },
  {
   "cell_type": "code",
   "execution_count": null,
   "metadata": {},
   "outputs": [],
   "source": [
    "##시간재기\n",
    "def my_timer(original_function):  #1\n",
    "    import time\n",
    "\n",
    "    def wrapper(*args, **kwargs):\n",
    "        t1 = time.time()\n",
    "        result = original_function(*args, **kwargs)\n",
    "        t2 = time.time() - t1\n",
    "        print '{} 함수가 실행된 총 시간: {} 초'.format(original_function.__name__, t2)\n",
    "        return result\n",
    "\n",
    "    return wrapper\n",
    "\n",
    "@my_timer  #2\n",
    "def display_info(name, age):\n",
    "    time.sleep(1)\n",
    "    print 'display_info({}, {}) 함수가 실행됐습니다.'.format(name, age)\n",
    "\n",
    "display_info('John', 25)"
   ]
  },
  {
   "cell_type": "code",
   "execution_count": null,
   "metadata": {},
   "outputs": [],
   "source": [
    "##시간 재기\n",
    "def my_timer(original_function):  #1\n",
    "    import time\n",
    "\n",
    "    def wrapper(*args, **kwargs):\n",
    "        t1 = time.time()\n",
    "        result = original_function(*args, **kwargs)\n",
    "        t2 = time.time() - t1\n",
    "        print '{} 함수가 실행된 총 시간: {} 초'.format(original_function.__name__, t2)\n",
    "        return result\n",
    "\n",
    "    return wrapper\n",
    "\n",
    "\n",
    "@my_timer  #2\n",
    "def display_info(name, age):\n",
    "    time.sleep(1)\n",
    "    print 'display_info({}, {}) 함수가 실행됐습니다.'.format(name, age)\n",
    "\n",
    "display_info('John', 25)"
   ]
  },
  {
   "cell_type": "markdown",
   "metadata": {},
   "source": [
    "### 흔한 실수 1\n",
    "- 인자를 받는 함수를 데코레이트 하기"
   ]
  },
  {
   "cell_type": "code",
   "execution_count": 7,
   "metadata": {},
   "outputs": [],
   "source": [
    "def decorate(func):\n",
    "    def wrapper():\n",
    "        print(\"before\")\n",
    "        func()\n",
    "        print(\"after\")\n",
    "    return wrapper\n"
   ]
  },
  {
   "cell_type": "code",
   "execution_count": 8,
   "metadata": {},
   "outputs": [
    {
     "ename": "TypeError",
     "evalue": "wrapper() takes 0 positional arguments but 1 was given",
     "output_type": "error",
     "traceback": [
      "\u001b[1;31m---------------------------------------------------------------------------\u001b[0m",
      "\u001b[1;31mTypeError\u001b[0m                                 Traceback (most recent call last)",
      "\u001b[1;32m<ipython-input-8-07954785255e>\u001b[0m in \u001b[0;36m<module>\u001b[1;34m\u001b[0m\n\u001b[0;32m      2\u001b[0m \u001b[1;32mdef\u001b[0m \u001b[0msay\u001b[0m\u001b[1;33m(\u001b[0m\u001b[0mmsg\u001b[0m\u001b[1;33m)\u001b[0m\u001b[1;33m:\u001b[0m\u001b[1;33m\u001b[0m\u001b[1;33m\u001b[0m\u001b[0m\n\u001b[0;32m      3\u001b[0m     \u001b[0mprint\u001b[0m\u001b[1;33m(\u001b[0m\u001b[0mmsg\u001b[0m\u001b[1;33m)\u001b[0m\u001b[1;33m\u001b[0m\u001b[1;33m\u001b[0m\u001b[0m\n\u001b[1;32m----> 4\u001b[1;33m \u001b[0msay\u001b[0m\u001b[1;33m(\u001b[0m\u001b[1;34m'잉!'\u001b[0m\u001b[1;33m)\u001b[0m\u001b[1;33m\u001b[0m\u001b[1;33m\u001b[0m\u001b[0m\n\u001b[0m",
      "\u001b[1;31mTypeError\u001b[0m: wrapper() takes 0 positional arguments but 1 was given"
     ]
    }
   ],
   "source": [
    "@decorate\n",
    "def say(msg):\n",
    "    print(msg)\n",
    "say('잉!')"
   ]
  },
  {
   "cell_type": "markdown",
   "metadata": {},
   "source": [
    "예외가 발생하는 이유는, 데코레이터 내부의 wrapper() 함수가 원래 인자를 무시해버렸기 때문입니다.원래 함수에서 넘어온 인자를 그대로 데코레이터의 내부 함수로 넘기려면 *args와 **kwargs를 사용해야 합니다."
   ]
  },
  {
   "cell_type": "code",
   "execution_count": 11,
   "metadata": {},
   "outputs": [],
   "source": [
    "def decorate(func):\n",
    "    def wrapper(*args, **kwargs):\n",
    "        print(\"before\")\n",
    "        func(*args, **kwargs)\n",
    "        print(\"after\")\n",
    "    return wrapper"
   ]
  },
  {
   "cell_type": "code",
   "execution_count": 12,
   "metadata": {},
   "outputs": [
    {
     "name": "stdout",
     "output_type": "stream",
     "text": [
      "before\n",
      "잉!\n",
      "after\n"
     ]
    }
   ],
   "source": [
    "@decorate\n",
    "def say(msg):\n",
    "    print(msg)\n",
    "say('잉!')"
   ]
  },
  {
   "cell_type": "markdown",
   "metadata": {},
   "source": [
    "데코레이터로 부터 원래 함수의 리턴값 그대로 받기"
   ]
  },
  {
   "cell_type": "code",
   "execution_count": 13,
   "metadata": {},
   "outputs": [
    {
     "name": "stdout",
     "output_type": "stream",
     "text": [
      "before\n",
      "after\n"
     ]
    }
   ],
   "source": [
    "@decorate\n",
    "def give_hi():\n",
    "    return (\"Hi!\")\n",
    "result = give_hi()\n"
   ]
  },
  {
   "cell_type": "code",
   "execution_count": 15,
   "metadata": {},
   "outputs": [
    {
     "name": "stdout",
     "output_type": "stream",
     "text": [
      "None\n"
     ]
    }
   ],
   "source": [
    "print(result)"
   ]
  },
  {
   "cell_type": "markdown",
   "metadata": {},
   "source": [
    "원래 함수에서 리턴한 `\"Hi!\"`가 데코레이터를 적용한 이후에는 리턴되지가 않는 것을 볼 수 있습니다.이유는, 데코레이터의 `wrapper()` 함수에서 원래 리턴값을 그대로 보존해주지 않았기 때문입니다.\n",
    "\n",
    "원래 함수의 리턴값을 `value` 변수에 저장해두고 마지막에 리턴을 해주면 원래 함수의 리턴값을 그대로 받아올 수 있습니다."
   ]
  },
  {
   "cell_type": "code",
   "execution_count": 18,
   "metadata": {},
   "outputs": [
    {
     "name": "stdout",
     "output_type": "stream",
     "text": [
      "before\n",
      "after\n"
     ]
    },
    {
     "data": {
      "text/plain": [
       "'Hi'"
      ]
     },
     "execution_count": 18,
     "metadata": {},
     "output_type": "execute_result"
    }
   ],
   "source": [
    "def decorate(func):\n",
    "    def wrapper(*args, **kwargs):\n",
    "        print(\"before\")\n",
    "        value = func(*args, **kwargs)\n",
    "        print(\"after\")\n",
    "        return value\n",
    "    return wrapper\n",
    "@decorate\n",
    "def give_hi():\n",
    "    return \"Hi\"\n",
    "result = give_hi()\n",
    "result\n"
   ]
  },
  {
   "cell_type": "markdown",
   "metadata": {},
   "source": [
    "### 흔한 실수 2\n",
    "-  **functools.wraps 활용**"
   ]
  },
  {
   "cell_type": "code",
   "execution_count": 20,
   "metadata": {},
   "outputs": [],
   "source": [
    "\n",
    "# 예시 데코레이터\n",
    "\n",
    "def trace_decorator(function):\n",
    "\tdef wrapped(*args, **kwargs):\n",
    "\t\tlogger.info(\"%s 실행\", function.__qualname__)\n",
    "\t\treturn function(*args, **kwargs)\n",
    "\treturn wrapped\n"
   ]
  },
  {
   "cell_type": "markdown",
   "metadata": {},
   "source": [
    "데코레이터를 사용할 때 한 가지 문제점은 원래 함수의 메타 정보가 데코레이터의 메타 정보로 대체된다는 것입니다."
   ]
  },
  {
   "cell_type": "code",
   "execution_count": 22,
   "metadata": {},
   "outputs": [],
   "source": [
    "@trace_decorator\n",
    "def process_account(account_id):\n",
    "\t'''id별 계정 처리'''\n",
    "\tlogger.info(\"%s 계정 처리\", account_id)"
   ]
  },
  {
   "cell_type": "code",
   "execution_count": 23,
   "metadata": {},
   "outputs": [
    {
     "name": "stdout",
     "output_type": "stream",
     "text": [
      "Help on function wrapped in module __main__:\n",
      "\n",
      "wrapped(*args, **kwargs)\n",
      "\n"
     ]
    }
   ],
   "source": [
    "help(process_account)"
   ]
  },
  {
   "cell_type": "code",
   "execution_count": 25,
   "metadata": {},
   "outputs": [
    {
     "name": "stdout",
     "output_type": "stream",
     "text": [
      "trace_decorator.<locals>.wrapped\n"
     ]
    }
   ],
   "source": [
    "#데코레이터가 실제로 원본 함수를 wrapped라 불리는 새로운 함수로 변경했기 때문에 원본 함수의 이름이 아닌 새로운 함수의 이름을 출력하게 된다. \n",
    "print(process_account.__qualname__)\n",
    "#함수에 docstring을 작성한 경우 데코레이터에 의해 덮어진다는 문제도 있다."
   ]
  },
  {
   "cell_type": "markdown",
   "metadata": {},
   "source": [
    "이를 방지하기 위해서는 데코레이터를 작성할 때 내부 함수 위에 `@functools.wraps` 데코레이터를 선언해줘야 합니다. \n",
    "\n",
    "(래핑된 함수에 @wraps 데코레이터를 적용하여 function 파라미터 함수를 래핑한 것이라고 알려주면 된다.  wraps decorator 는 wrapper 함수의 속성을 복원해 준다.)"
   ]
  },
  {
   "cell_type": "code",
   "execution_count": 33,
   "metadata": {},
   "outputs": [
    {
     "name": "stdout",
     "output_type": "stream",
     "text": [
      "Help on function process_account in module __main__:\n",
      "\n",
      "process_account(account_id)\n",
      "    id별 계정 처리\n",
      "\n"
     ]
    }
   ],
   "source": [
    "from functools import wraps\n",
    "\n",
    "def trace_decorator(function):\n",
    "\t@wraps(function)\n",
    "\tdef wrapped(*args, **kwargs):\n",
    "\t\tlogger.info(\"%s 실행\", function.__qualname__)\n",
    "\t\treturn function(*args, **kwargs)\n",
    "\treturn wrapped\n",
    "@trace_decorator\n",
    "def process_account(account_id):\n",
    "\t'''id별 계정 처리'''\n",
    "\tlogger.info(\"%s 계정 처리\", account_id)\n",
    "help(process_account)\n"
   ]
  },
  {
   "cell_type": "code",
   "execution_count": 34,
   "metadata": {},
   "outputs": [
    {
     "name": "stdout",
     "output_type": "stream",
     "text": [
      "process_account\n"
     ]
    }
   ],
   "source": [
    "print(process_account.__qualname__)\n"
   ]
  },
  {
   "cell_type": "markdown",
   "metadata": {},
   "source": [
    "#### 어느 곳에서나 작동하는 데코레이터\n",
    "\n",
    "데코레이터는 여러 곳에 재사용 될 수 있다. \n",
    "\n",
    "그러나, 구상한 첫번째 유형이 아닌 다른 유형에 다시 사용하려면 종종 오류가 뜨곤 한다. \n",
    "\n",
    "(예, 함수에 사용된 데코레이터를 클래스 메서드에 적용)\n",
    "\n",
    "*args와 **kwargs를 사용하면 모든 경우에 사용할 수 있다. \n",
    "\n",
    "*args와 **kwargs보다 원래 함수의 signification에 맞춰 데코레이터를 정의하는게 좋을 때도 있다.\n",
    "\n",
    "- 원래의 함수와 모양이 비슷하기 때문에 읽기 쉬움\n",
    "- 파라미터를 받아서 뭔가를 하려면 *args와 **kwargs가 오히려 불편함\n",
    "\n",
    "파라미터를 받아서 특정 객체를 생성하는 경우가 많다고 해보자. \n",
    "\n",
    "이런 경우 파라미터를 변환해주는 데코레이터를 만들어 중복을 제거할 수 있다."
   ]
  },
  {
   "cell_type": "markdown",
   "metadata": {},
   "source": [
    "### 데코레이터와 DRY 원칙\n",
    "\n",
    "- DRY(Don't Repeat Yourself) 원칙을 잘 따름\n",
    "    - 데코레이터 사용 → 특정 로직을 분리된 컴포넌트로 추상화\n",
    "    - 여러 객체에 데코레이터를 적용하여 코드를 재사용 할 수 있기 때문에 DRY 원칙 따름\n",
    "\n",
    "- 코드 재사용을 위한 데코레이터 사용시 염두할 사항\n",
    "    - 사용량을 줄일 수 있다는 확실한 믿음\n",
    "\n",
    "- 재사용이 많다는 것을 어떻게 알 수 있을까?\n",
    "    - 일반적으로 적용되는 원칙 (GLASS 01)\n",
    "        - 적어도 3가지 이상의 애플리케이션에서 시험해 봐야 한다\n",
    "\n",
    "- 데코레이터 사용시 권장 사항\n",
    "    - 처음부터 데코레이터를 만들지 않는다. 패턴이 생기고 데코레이터에 대한 추상화가 명확해지면 그때 리팩토링을 한다.\n",
    "    - 적어도 3회 이상 필요한 경우에만 구현\n",
    "    - 코드를 최소한으로 유지"
   ]
  },
  {
   "cell_type": "markdown",
   "metadata": {},
   "source": [
    "### 좋은 데코레이터 분석\n",
    "\n",
    "- 훌륭한 데코레이터가 갖추어야 할 특성\n",
    "    - 캡슐화와 관심사의 분리: 데코레이터의 클라이언트는 내부에서 어떻게 구현했는지 전혀 알 수 없는 블랙박스 모드로 동작해야 함\n",
    "    - 독립성: 독립적이여하며 데코레이팅되는 객체와 최대한 분리 되어야 함\n",
    "    - 재사용성: 충분히 범용적이어야 함\n",
    "\n",
    "- 데코레이터에 기대하는 바\n",
    "    - 깔끔한 인터페이스를 제공\n",
    "        - 사용자가 내부 동작 원리를 몰라도 기대하는 바를 정확히 알 수 있게 해줌\n",
    "\n",
    "- 데코레이터의 좋은 예 (Celery 프로젝트)\n",
    "- 일반적인 사용 예 (웹 프레임워크; Pyramid, Flash , Sanic)"
   ]
  },
  {
   "cell_type": "markdown",
   "metadata": {},
   "source": [
    "### 요약\n",
    "\n",
    "- 파이썬 데코레이터는 클래스, 메서드, 함수, 제너레이터 등 많은 것에 적용할 수 있음\n",
    "- 함수를 위한 데코레이터 만들 시 원래 한수의 시그니처와 일치하도록 만든다.\n",
    "- 데코레이터는 코드를 재사용하고 DRY 원칙을 따르는 데 매우 유용한 도구\n",
    "- 깔끔한 인터페이스를 만들기 위해 로직의 일부를 데코레이터로 추출하여 클래스의 정의를 단순화 할 수 있음"
   ]
  },
  {
   "cell_type": "code",
   "execution_count": null,
   "metadata": {},
   "outputs": [],
   "source": []
  }
 ],
 "metadata": {
  "kernelspec": {
   "display_name": "Python 3",
   "language": "python",
   "name": "python3"
  },
  "language_info": {
   "codemirror_mode": {
    "name": "ipython",
    "version": 3
   },
   "file_extension": ".py",
   "mimetype": "text/x-python",
   "name": "python",
   "nbconvert_exporter": "python",
   "pygments_lexer": "ipython3",
   "version": "3.7.6"
  }
 },
 "nbformat": 4,
 "nbformat_minor": 4
}
