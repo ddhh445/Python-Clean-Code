{
 "cells": [
  {
   "cell_type": "markdown",
   "metadata": {},
   "source": [
    "디자인 원칙과 단위 테스트\n",
    "- 먼저 단위테스트란?\n",
    "=> 다른 코드의 일부분이 유효한지를 검사하는 코드\n",
    "\n",
    "=> 단위테스트는 소프트웨어의 핵심이 되는 필수 기능으로써, 단순히 \"핵심\"을 검증하는 게 아님.\n",
    "\n",
    "단위 테스트(Unit test)의 특징\n",
    "\n",
    "\n",
    "- 격리 : 단위 테스트는 다른 외부 에이전트와 완전히 독립적이어야 하며 비즈니스 로직에만 집중해야 함\n",
    "- 성능 : 신속하게 실행되어야 하며, 반복적으로 여러 번 실행될 수 있도록 설계해야 한다.\n",
    "- 자체 검증 : 단위 테스트의 실행만으로 결과를 결정할 수 있어야 한다. 단위 테스트를 위한 추가 단계가 없어야함(일반적으로 실패하면 오류코드를/ 성공하면 점을/ 실패하면  F/ 예외가 있으면 E)\n",
    "\n",
    "자동화된 테스트의 다른 형태\n",
    "\n",
    "- 단위 테스트는 함수 또는 메서드와 같은 \"작은 단위\"를 확인하귀 위한 것\n",
    "- 즉, 최대한 \"자세하게\" 코드를 검사하는 것이 목적임\n",
    "- 따라서, 더 큰 개념인 클래스를 검사하려면 \"단위테스트 집합\"인 테스트 스위트를 사용한다.\n",
    "- 단위 테스트의 방법은 다양하고, 모든 오류를 잡을 수 있는 것도 아님\n",
    "- 통합/인수 테스트 라는 것도 있는데 이것들은 단위테스트와 관련된 중요 특성인 \"속도\"를 잃게 된다.\n",
    "- 따라서, 좋은 개발환경은 전체 테스트 스위트에서 수정이 생길때마다 단위 테스트 및 리팩토링을 해야함\n",
    "- 그럼에도 불구하고 **실용성이 이상보다 우선**이다.\n"
   ]
  },
  {
   "cell_type": "markdown",
   "metadata": {},
   "source": [
    "## 1. 단위 테스트와 애자일\n",
    "\n",
    "- 작은 성공을 지속적으로 반복 → 빠른 피드백을 받아 수정 반복을 하는 것\n",
    "- 솔리드 원칙을 지키고, 개방/폐쇄 원칙에 따르는 컴포넌트를 만들었고 리팩토링이 쉬워 변화에 대응가능할때\n",
    "\n",
    "    → 버그가 발생하지 않으려면?\n",
    "\n",
    "    → 기존 기능이 보존되었는지? 문제가 없는지?\n",
    "\n",
    "- 이 질문의 근거가 단위 테스트가 될 수 있음.\n",
    "- 즉, 단위 테스트는 코드가 우리가 기대한 것처럼 동작한다는 확신을 주는 안전망\n"
   ]
  },
  {
   "cell_type": "markdown",
   "metadata": {},
   "source": [
    "## 2. 단위 테스트와 소프트웨어 디자인\n",
    "\n",
    "- 좋은 소프트웨어는 테스트 가능한 소프트웨어"
   ]
  },
  {
   "cell_type": "code",
   "execution_count": 2,
   "metadata": {},
   "outputs": [
    {
     "ename": "SyntaxError",
     "evalue": "EOL while scanning string literal (<ipython-input-2-0dc52991e1a0>, line 10)",
     "output_type": "error",
     "traceback": [
      "\u001b[1;36m  File \u001b[1;32m\"<ipython-input-2-0dc52991e1a0>\"\u001b[1;36m, line \u001b[1;32m10\u001b[0m\n\u001b[1;33m    logger.info(f\"{metric_name} 전송 값 = {metric_value})\u001b[0m\n\u001b[1;37m                                                      ^\u001b[0m\n\u001b[1;31mSyntaxError\u001b[0m\u001b[1;31m:\u001b[0m EOL while scanning string literal\n"
     ]
    }
   ],
   "source": [
    "class MetricsClient:\n",
    "\t\t\"\"\"타사 지표 전송 클라이언트\"\"\"\n",
    "\t\tdef sent(self, metric_name, metric_value):\n",
    "\t\t\t\tif not isinstance(metric_name, str):\n",
    "\t\t\t\t\t\traise TypeError(\"metric_name으로 문자열 타입을 사용해야 함\")\n",
    "\n",
    "\t\t\t\tif not isinstance(metric_value, str):\n",
    "\t\t\t\t\t\traise TypeError(\"metric_value로 문자열 타입을 사용해야 함\")\n",
    "\n",
    "\t\t\t\tlogger.info(f\"{metric_name} 전송 값 = {metric_value})\n",
    "\n",
    "class Process:\n",
    "\n",
    "\t\tdef __init__(self):\n",
    "\t\t\t\tself.client = MetricsClient() # 타사 지표 전송 클라이언트\n",
    "\n",
    "\t\tdef process_iterations(self, n_iterations):\n",
    "\t\t\t\tfor i in range(n_interations):\n",
    "\t\t\t\t\t\tresult = self.run_process()\n",
    "\t\t\t\t\t\tself.client.sent(\"iteration.\".format(i), result)"
   ]
  },
  {
   "cell_type": "markdown",
   "metadata": {},
   "source": [
    "- 위 코드에서는 타사 지표 전송 클라이언트의 파라미터가 문자열 타입이어야 한다는 요구사항이 있음\n",
    "- 타사에서 제공하는 라이브러리는 직접 제어가 불가능 하므로, 리팩토링을 여러번 하더라도 단위 테스트를 통해 버그가 재현되지 않음을 확인해야 한다.\n"
   ]
  },
  {
   "cell_type": "markdown",
   "metadata": {},
   "source": [
    "- 필요한 부분만 테스트 하기위해 main 메서드에서 client를 직접 다루지 않고 래퍼 메서드에 위임함\n",
    "- 메인 코드에 직접 단위 테스트를 작성하면 가장 중요한 속성인 추상화를 하지 못하게 됨"
   ]
  },
  {
   "cell_type": "code",
   "execution_count": null,
   "metadata": {},
   "outputs": [],
   "source": [
    "class WrappedClient:\n",
    "\t\tdef __init__(self):\n",
    "\t\t\t\tself.client = MetricsClient()\n",
    "\n",
    "\t\tdef send(self, metric_name, metric_value):\n",
    "\t\t\t\treturn self.client.send(str(metric_name), str(metric_value))\n",
    "                                #여기 sent가 아니라 sent가 맞나요?\n",
    "class Process:\n",
    "\t\tdef __init__(self):\n",
    "\t\t\t\tself.client = WrappedClient()\n",
    "                \n",
    "                #나머지는 유지\n",
    "                "
   ]
  },
  {
   "cell_type": "code",
   "execution_count": null,
   "metadata": {},
   "outputs": [],
   "source": [
    "- Mock(흉내내다): 의존성 객체를 대신하여 시뮬레이션 하는 역할\n",
    "- 어떤 종류의 타입에도 사용할 수 있음"
   ]
  },
  {
   "cell_type": "code",
   "execution_count": 5,
   "metadata": {},
   "outputs": [],
   "source": [
    "import unittest\n",
    "from unittest.mock import Mock\n",
    "\n",
    "class TestWrappedClient(unittest.TestCase):\n",
    "\t\tdef test_sent_converts_types(self):\n",
    "\t\t\t\twrapped_client = WrappedClient()\n",
    "\t\t\t\twrapped_client.client = Mock()\n",
    "\t\t\t\twrapped_client.sent(\"value\", 1)\n",
    "\t\t\t\twrapped_client.client.send.assert_called_with(\"value\", \"1\")"
   ]
  },
  {
   "cell_type": "markdown",
   "metadata": {},
   "source": [
    "# MOCK\n",
    "https://www.daleseo.com/python-unittest-mock/\n",
    "- mocking은 소외 mock이라고 불리는 가짜 객체를 생성하는 것부터 시작함}"
   ]
  },
  {
   "cell_type": "markdown",
   "metadata": {},
   "source": [
    "먼저 호출되었을 때 특정 값을 리턴하는 mock 객체는 return_value 옵션을 이용해서 생성할 수 있음"
   ]
  },
  {
   "cell_type": "code",
   "execution_count": 6,
   "metadata": {},
   "outputs": [
    {
     "data": {
      "text/plain": [
       "'Hello, Mock!'"
      ]
     },
     "execution_count": 6,
     "metadata": {},
     "output_type": "execute_result"
    }
   ],
   "source": [
    "mock = Mock(return_value='Hello, Mock!')\n",
    "mock()"
   ]
  },
  {
   "cell_type": "markdown",
   "metadata": {},
   "source": [
    "반면에 호출되었을 때 예외가 발생하는 mock 객체는 side_effect 옵션을 이용해서 생성할 수 있음"
   ]
  },
  {
   "cell_type": "code",
   "execution_count": 7,
   "metadata": {},
   "outputs": [
    {
     "ename": "Exception",
     "evalue": "Oops!",
     "output_type": "error",
     "traceback": [
      "\u001b[1;31m---------------------------------------------------------------------------\u001b[0m",
      "\u001b[1;31mException\u001b[0m                                 Traceback (most recent call last)",
      "\u001b[1;32m<ipython-input-7-67a980265d69>\u001b[0m in \u001b[0;36m<module>\u001b[1;34m\u001b[0m\n\u001b[0;32m      1\u001b[0m \u001b[0mmock\u001b[0m \u001b[1;33m=\u001b[0m \u001b[0mMock\u001b[0m\u001b[1;33m(\u001b[0m\u001b[0mside_effect\u001b[0m\u001b[1;33m=\u001b[0m\u001b[0mException\u001b[0m\u001b[1;33m(\u001b[0m\u001b[1;34m'Oops!'\u001b[0m\u001b[1;33m)\u001b[0m\u001b[1;33m)\u001b[0m\u001b[1;33m\u001b[0m\u001b[1;33m\u001b[0m\u001b[0m\n\u001b[1;32m----> 2\u001b[1;33m \u001b[0mmock\u001b[0m\u001b[1;33m(\u001b[0m\u001b[1;33m)\u001b[0m\u001b[1;33m\u001b[0m\u001b[1;33m\u001b[0m\u001b[0m\n\u001b[0m",
      "\u001b[1;32m~\\anaconda3\\lib\\unittest\\mock.py\u001b[0m in \u001b[0;36m__call__\u001b[1;34m(_mock_self, *args, **kwargs)\u001b[0m\n\u001b[0;32m   1013\u001b[0m         \u001b[1;31m# in the signature\u001b[0m\u001b[1;33m\u001b[0m\u001b[1;33m\u001b[0m\u001b[1;33m\u001b[0m\u001b[0m\n\u001b[0;32m   1014\u001b[0m         \u001b[0m_mock_self\u001b[0m\u001b[1;33m.\u001b[0m\u001b[0m_mock_check_sig\u001b[0m\u001b[1;33m(\u001b[0m\u001b[1;33m*\u001b[0m\u001b[0margs\u001b[0m\u001b[1;33m,\u001b[0m \u001b[1;33m**\u001b[0m\u001b[0mkwargs\u001b[0m\u001b[1;33m)\u001b[0m\u001b[1;33m\u001b[0m\u001b[1;33m\u001b[0m\u001b[0m\n\u001b[1;32m-> 1015\u001b[1;33m         \u001b[1;32mreturn\u001b[0m \u001b[0m_mock_self\u001b[0m\u001b[1;33m.\u001b[0m\u001b[0m_mock_call\u001b[0m\u001b[1;33m(\u001b[0m\u001b[1;33m*\u001b[0m\u001b[0margs\u001b[0m\u001b[1;33m,\u001b[0m \u001b[1;33m**\u001b[0m\u001b[0mkwargs\u001b[0m\u001b[1;33m)\u001b[0m\u001b[1;33m\u001b[0m\u001b[1;33m\u001b[0m\u001b[0m\n\u001b[0m\u001b[0;32m   1016\u001b[0m \u001b[1;33m\u001b[0m\u001b[0m\n\u001b[0;32m   1017\u001b[0m \u001b[1;33m\u001b[0m\u001b[0m\n",
      "\u001b[1;32m~\\anaconda3\\lib\\unittest\\mock.py\u001b[0m in \u001b[0;36m_mock_call\u001b[1;34m(_mock_self, *args, **kwargs)\u001b[0m\n\u001b[0;32m   1073\u001b[0m         \u001b[1;32mif\u001b[0m \u001b[0meffect\u001b[0m \u001b[1;32mis\u001b[0m \u001b[1;32mnot\u001b[0m \u001b[1;32mNone\u001b[0m\u001b[1;33m:\u001b[0m\u001b[1;33m\u001b[0m\u001b[1;33m\u001b[0m\u001b[0m\n\u001b[0;32m   1074\u001b[0m             \u001b[1;32mif\u001b[0m \u001b[0m_is_exception\u001b[0m\u001b[1;33m(\u001b[0m\u001b[0meffect\u001b[0m\u001b[1;33m)\u001b[0m\u001b[1;33m:\u001b[0m\u001b[1;33m\u001b[0m\u001b[1;33m\u001b[0m\u001b[0m\n\u001b[1;32m-> 1075\u001b[1;33m                 \u001b[1;32mraise\u001b[0m \u001b[0meffect\u001b[0m\u001b[1;33m\u001b[0m\u001b[1;33m\u001b[0m\u001b[0m\n\u001b[0m\u001b[0;32m   1076\u001b[0m             \u001b[1;32melif\u001b[0m \u001b[1;32mnot\u001b[0m \u001b[0m_callable\u001b[0m\u001b[1;33m(\u001b[0m\u001b[0meffect\u001b[0m\u001b[1;33m)\u001b[0m\u001b[1;33m:\u001b[0m\u001b[1;33m\u001b[0m\u001b[1;33m\u001b[0m\u001b[0m\n\u001b[0;32m   1077\u001b[0m                 \u001b[0mresult\u001b[0m \u001b[1;33m=\u001b[0m \u001b[0mnext\u001b[0m\u001b[1;33m(\u001b[0m\u001b[0meffect\u001b[0m\u001b[1;33m)\u001b[0m\u001b[1;33m\u001b[0m\u001b[1;33m\u001b[0m\u001b[0m\n",
      "\u001b[1;31mException\u001b[0m: Oops!"
     ]
    }
   ],
   "source": [
    "mock = Mock(side_effect=Exception('Oops!'))\n",
    "mock()"
   ]
  },
  {
   "cell_type": "markdown",
   "metadata": {},
   "source": [
    "side_effect 옵션에 리스트를 넘기면 mock 객체가 호출될 때 마다 매 번 다른 값을 리턴할 수도 있음."
   ]
  },
  {
   "cell_type": "code",
   "execution_count": 13,
   "metadata": {},
   "outputs": [
    {
     "data": {
      "text/plain": [
       "3"
      ]
     },
     "execution_count": 13,
     "metadata": {},
     "output_type": "execute_result"
    }
   ],
   "source": [
    "mock = Mock(side_effect=[1, 2, 3])\n",
    "mock()\n",
    "mock()\n",
    "mock()\n"
   ]
  },
  {
   "cell_type": "code",
   "execution_count": 14,
   "metadata": {},
   "outputs": [
    {
     "ename": "StopIteration",
     "evalue": "",
     "output_type": "error",
     "traceback": [
      "\u001b[1;31m---------------------------------------------------------------------------\u001b[0m",
      "\u001b[1;31mStopIteration\u001b[0m                             Traceback (most recent call last)",
      "\u001b[1;32m<ipython-input-14-260556255cfc>\u001b[0m in \u001b[0;36m<module>\u001b[1;34m\u001b[0m\n\u001b[0;32m      3\u001b[0m \u001b[0mmock\u001b[0m\u001b[1;33m(\u001b[0m\u001b[1;33m)\u001b[0m\u001b[1;33m\u001b[0m\u001b[1;33m\u001b[0m\u001b[0m\n\u001b[0;32m      4\u001b[0m \u001b[0mmock\u001b[0m\u001b[1;33m(\u001b[0m\u001b[1;33m)\u001b[0m\u001b[1;33m\u001b[0m\u001b[1;33m\u001b[0m\u001b[0m\n\u001b[1;32m----> 5\u001b[1;33m \u001b[0mmock\u001b[0m\u001b[1;33m(\u001b[0m\u001b[1;33m)\u001b[0m\u001b[1;33m\u001b[0m\u001b[1;33m\u001b[0m\u001b[0m\n\u001b[0m",
      "\u001b[1;32m~\\anaconda3\\lib\\unittest\\mock.py\u001b[0m in \u001b[0;36m__call__\u001b[1;34m(_mock_self, *args, **kwargs)\u001b[0m\n\u001b[0;32m   1013\u001b[0m         \u001b[1;31m# in the signature\u001b[0m\u001b[1;33m\u001b[0m\u001b[1;33m\u001b[0m\u001b[1;33m\u001b[0m\u001b[0m\n\u001b[0;32m   1014\u001b[0m         \u001b[0m_mock_self\u001b[0m\u001b[1;33m.\u001b[0m\u001b[0m_mock_check_sig\u001b[0m\u001b[1;33m(\u001b[0m\u001b[1;33m*\u001b[0m\u001b[0margs\u001b[0m\u001b[1;33m,\u001b[0m \u001b[1;33m**\u001b[0m\u001b[0mkwargs\u001b[0m\u001b[1;33m)\u001b[0m\u001b[1;33m\u001b[0m\u001b[1;33m\u001b[0m\u001b[0m\n\u001b[1;32m-> 1015\u001b[1;33m         \u001b[1;32mreturn\u001b[0m \u001b[0m_mock_self\u001b[0m\u001b[1;33m.\u001b[0m\u001b[0m_mock_call\u001b[0m\u001b[1;33m(\u001b[0m\u001b[1;33m*\u001b[0m\u001b[0margs\u001b[0m\u001b[1;33m,\u001b[0m \u001b[1;33m**\u001b[0m\u001b[0mkwargs\u001b[0m\u001b[1;33m)\u001b[0m\u001b[1;33m\u001b[0m\u001b[1;33m\u001b[0m\u001b[0m\n\u001b[0m\u001b[0;32m   1016\u001b[0m \u001b[1;33m\u001b[0m\u001b[0m\n\u001b[0;32m   1017\u001b[0m \u001b[1;33m\u001b[0m\u001b[0m\n",
      "\u001b[1;32m~\\anaconda3\\lib\\unittest\\mock.py\u001b[0m in \u001b[0;36m_mock_call\u001b[1;34m(_mock_self, *args, **kwargs)\u001b[0m\n\u001b[0;32m   1075\u001b[0m                 \u001b[1;32mraise\u001b[0m \u001b[0meffect\u001b[0m\u001b[1;33m\u001b[0m\u001b[1;33m\u001b[0m\u001b[0m\n\u001b[0;32m   1076\u001b[0m             \u001b[1;32melif\u001b[0m \u001b[1;32mnot\u001b[0m \u001b[0m_callable\u001b[0m\u001b[1;33m(\u001b[0m\u001b[0meffect\u001b[0m\u001b[1;33m)\u001b[0m\u001b[1;33m:\u001b[0m\u001b[1;33m\u001b[0m\u001b[1;33m\u001b[0m\u001b[0m\n\u001b[1;32m-> 1077\u001b[1;33m                 \u001b[0mresult\u001b[0m \u001b[1;33m=\u001b[0m \u001b[0mnext\u001b[0m\u001b[1;33m(\u001b[0m\u001b[0meffect\u001b[0m\u001b[1;33m)\u001b[0m\u001b[1;33m\u001b[0m\u001b[1;33m\u001b[0m\u001b[0m\n\u001b[0m\u001b[0;32m   1078\u001b[0m                 \u001b[1;32mif\u001b[0m \u001b[0m_is_exception\u001b[0m\u001b[1;33m(\u001b[0m\u001b[0mresult\u001b[0m\u001b[1;33m)\u001b[0m\u001b[1;33m:\u001b[0m\u001b[1;33m\u001b[0m\u001b[1;33m\u001b[0m\u001b[0m\n\u001b[0;32m   1079\u001b[0m                     \u001b[1;32mraise\u001b[0m \u001b[0mresult\u001b[0m\u001b[1;33m\u001b[0m\u001b[1;33m\u001b[0m\u001b[0m\n",
      "\u001b[1;31mStopIteration\u001b[0m: "
     ]
    }
   ],
   "source": [
    "mock = Mock(side_effect=[1, 2, 3])\n",
    "mock()\n",
    "mock()\n",
    "mock()\n",
    "mock()"
   ]
  },
  {
   "cell_type": "markdown",
   "metadata": {},
   "source": [
    "side_effect 옵션에 함수를 넘기면 mock 객체를 호출했을 때 주어진 인자에 따라 다른 값을 리턴할 수 있음,.\n"
   ]
  },
  {
   "cell_type": "code",
   "execution_count": 15,
   "metadata": {},
   "outputs": [
    {
     "data": {
      "text/plain": [
       "30"
      ]
     },
     "execution_count": 15,
     "metadata": {},
     "output_type": "execute_result"
    }
   ],
   "source": [
    "mock = Mock(side_effect=lambda x: x * 10)\n",
    "mock(3)"
   ]
  },
  {
   "cell_type": "markdown",
   "metadata": {},
   "source": [
    "return_value와 side_effect 옵션은 꼭 Mock() 생성자의 인자로 넘어갈 필요는 없음. \n",
    "다음과 같이 mock 생성 이후에도 얼마든지 이 옵션 값은 바꿀 수가 있다.\n",
    "\n"
   ]
  },
  {
   "cell_type": "code",
   "execution_count": 17,
   "metadata": {},
   "outputs": [
    {
     "data": {
      "text/plain": [
       "34"
      ]
     },
     "execution_count": 17,
     "metadata": {},
     "output_type": "execute_result"
    }
   ],
   "source": [
    "mock = Mock()\n",
    "mock.return_value=34\n",
    "mock()"
   ]
  },
  {
   "cell_type": "markdown",
   "metadata": {},
   "source": [
    " 위와 같이 함수처럼 바로 호출을 할 수도 있지만, 객체처럼 속성도 가질 수 있는데 각 속성은 새로운 mock이 됨. 따라서 다음과 같이 특정 속성에 값을 할당해 수도 있고, 특정 메서드의 리턴 값을 지정해줄 수도 있음"
   ]
  },
  {
   "cell_type": "code",
   "execution_count": 19,
   "metadata": {},
   "outputs": [
    {
     "data": {
      "text/plain": [
       "'ATTRIBUTE'"
      ]
     },
     "execution_count": 19,
     "metadata": {},
     "output_type": "execute_result"
    }
   ],
   "source": [
    "mock = Mock()\n",
    "mock.attribute = 'ATTRIBUTE'\n",
    "mock.attribute\n"
   ]
  },
  {
   "cell_type": "code",
   "execution_count": 20,
   "metadata": {},
   "outputs": [
    {
     "data": {
      "text/plain": [
       "'METHOD RETURN VALUE'"
      ]
     },
     "execution_count": 20,
     "metadata": {},
     "output_type": "execute_result"
    }
   ],
   "source": [
    "\n",
    "mock.method.return_value = 'METHOD RETURN VALUE'\n",
    "mock.method()\n"
   ]
  },
  {
   "cell_type": "markdown",
   "metadata": {},
   "source": [
    "이렇게 mock 객체의 속성이나 메서드도 또 다른 mock 객체가 된다는 사실을 이용하여 더 유연하게 사용할 수 있다고 하네요 "
   ]
  },
  {
   "cell_type": "markdown",
   "metadata": {},
   "source": [
    "# mock로 객체 검증하기"
   ]
  },
  {
   "cell_type": "markdown",
   "metadata": {},
   "source": [
    "- assert_called() 메서드는 해당 mock이 호출된 이력이 있는지를 검증할 때 쓰임\n",
    "- mock을 한 번도 호출하지 않고 assert_called() 메서드를 호출하면 예외가 발생함."
   ]
  },
  {
   "cell_type": "code",
   "execution_count": 21,
   "metadata": {},
   "outputs": [
    {
     "ename": "AssertionError",
     "evalue": "Expected 'None' to have been called.",
     "output_type": "error",
     "traceback": [
      "\u001b[1;31m---------------------------------------------------------------------------\u001b[0m",
      "\u001b[1;31mAssertionError\u001b[0m                            Traceback (most recent call last)",
      "\u001b[1;32m<ipython-input-21-919c09b10ceb>\u001b[0m in \u001b[0;36m<module>\u001b[1;34m\u001b[0m\n\u001b[0;32m      1\u001b[0m \u001b[1;32mfrom\u001b[0m \u001b[0munittest\u001b[0m\u001b[1;33m.\u001b[0m\u001b[0mmock\u001b[0m \u001b[1;32mimport\u001b[0m \u001b[0mMock\u001b[0m\u001b[1;33m\u001b[0m\u001b[1;33m\u001b[0m\u001b[0m\n\u001b[0;32m      2\u001b[0m \u001b[0mmock\u001b[0m \u001b[1;33m=\u001b[0m \u001b[0mMock\u001b[0m\u001b[1;33m(\u001b[0m\u001b[1;33m)\u001b[0m\u001b[1;33m\u001b[0m\u001b[1;33m\u001b[0m\u001b[0m\n\u001b[1;32m----> 3\u001b[1;33m \u001b[0mmock\u001b[0m\u001b[1;33m.\u001b[0m\u001b[0massert_called\u001b[0m\u001b[1;33m(\u001b[0m\u001b[1;33m)\u001b[0m\u001b[1;33m\u001b[0m\u001b[1;33m\u001b[0m\u001b[0m\n\u001b[0m",
      "\u001b[1;32m~\\anaconda3\\lib\\unittest\\mock.py\u001b[0m in \u001b[0;36massert_called\u001b[1;34m(_mock_self)\u001b[0m\n\u001b[0;32m    847\u001b[0m             msg = (\"Expected '%s' to have been called.\" %\n\u001b[0;32m    848\u001b[0m                    self._mock_name or 'mock')\n\u001b[1;32m--> 849\u001b[1;33m             \u001b[1;32mraise\u001b[0m \u001b[0mAssertionError\u001b[0m\u001b[1;33m(\u001b[0m\u001b[0mmsg\u001b[0m\u001b[1;33m)\u001b[0m\u001b[1;33m\u001b[0m\u001b[1;33m\u001b[0m\u001b[0m\n\u001b[0m\u001b[0;32m    850\u001b[0m \u001b[1;33m\u001b[0m\u001b[0m\n\u001b[0;32m    851\u001b[0m     \u001b[1;32mdef\u001b[0m \u001b[0massert_called_once\u001b[0m\u001b[1;33m(\u001b[0m\u001b[0m_mock_self\u001b[0m\u001b[1;33m)\u001b[0m\u001b[1;33m:\u001b[0m\u001b[1;33m\u001b[0m\u001b[1;33m\u001b[0m\u001b[0m\n",
      "\u001b[1;31mAssertionError\u001b[0m: Expected 'None' to have been called."
     ]
    }
   ],
   "source": [
    "from unittest.mock import Mock\n",
    "mock = Mock()\n",
    "mock.assert_called()\n"
   ]
  },
  {
   "cell_type": "code",
   "execution_count": 22,
   "metadata": {},
   "outputs": [],
   "source": [
    "from unittest.mock import Mock\n",
    "mock = Mock()\n",
    "mock()\n",
    "mock.assert_called()\n"
   ]
  },
  {
   "cell_type": "markdown",
   "metadata": {},
   "source": [
    "assert_called_once() 메서드는 해당 mock이 단 한 번 호출되었는지 검증할 때 쓰임"
   ]
  },
  {
   "cell_type": "code",
   "execution_count": 23,
   "metadata": {},
   "outputs": [],
   "source": [
    "mock.assert_called_once()"
   ]
  },
  {
   "cell_type": "code",
   "execution_count": 24,
   "metadata": {},
   "outputs": [
    {
     "ename": "AssertionError",
     "evalue": "Expected 'mock' to have been called once. Called 2 times.",
     "output_type": "error",
     "traceback": [
      "\u001b[1;31m---------------------------------------------------------------------------\u001b[0m",
      "\u001b[1;31mAssertionError\u001b[0m                            Traceback (most recent call last)",
      "\u001b[1;32m<ipython-input-24-20ef5d3e2001>\u001b[0m in \u001b[0;36m<module>\u001b[1;34m\u001b[0m\n\u001b[0;32m      1\u001b[0m \u001b[0mmock\u001b[0m\u001b[1;33m(\u001b[0m\u001b[1;33m)\u001b[0m\u001b[1;33m\u001b[0m\u001b[1;33m\u001b[0m\u001b[0m\n\u001b[1;32m----> 2\u001b[1;33m \u001b[0mmock\u001b[0m\u001b[1;33m.\u001b[0m\u001b[0massert_called_once\u001b[0m\u001b[1;33m(\u001b[0m\u001b[1;33m)\u001b[0m\u001b[1;33m\u001b[0m\u001b[1;33m\u001b[0m\u001b[0m\n\u001b[0m",
      "\u001b[1;32m~\\anaconda3\\lib\\unittest\\mock.py\u001b[0m in \u001b[0;36massert_called_once\u001b[1;34m(_mock_self)\u001b[0m\n\u001b[0;32m    856\u001b[0m             msg = (\"Expected '%s' to have been called once. Called %s times.\" %\n\u001b[0;32m    857\u001b[0m                    (self._mock_name or 'mock', self.call_count))\n\u001b[1;32m--> 858\u001b[1;33m             \u001b[1;32mraise\u001b[0m \u001b[0mAssertionError\u001b[0m\u001b[1;33m(\u001b[0m\u001b[0mmsg\u001b[0m\u001b[1;33m)\u001b[0m\u001b[1;33m\u001b[0m\u001b[1;33m\u001b[0m\u001b[0m\n\u001b[0m\u001b[0;32m    859\u001b[0m \u001b[1;33m\u001b[0m\u001b[0m\n\u001b[0;32m    860\u001b[0m     \u001b[1;32mdef\u001b[0m \u001b[0massert_called_with\u001b[0m\u001b[1;33m(\u001b[0m\u001b[0m_mock_self\u001b[0m\u001b[1;33m,\u001b[0m \u001b[1;33m*\u001b[0m\u001b[0margs\u001b[0m\u001b[1;33m,\u001b[0m \u001b[1;33m**\u001b[0m\u001b[0mkwargs\u001b[0m\u001b[1;33m)\u001b[0m\u001b[1;33m:\u001b[0m\u001b[1;33m\u001b[0m\u001b[1;33m\u001b[0m\u001b[0m\n",
      "\u001b[1;31mAssertionError\u001b[0m: Expected 'mock' to have been called once. Called 2 times."
     ]
    }
   ],
   "source": [
    "mock()\n",
    "mock.assert_called_once()"
   ]
  },
  {
   "cell_type": "markdown",
   "metadata": {},
   "source": [
    "assert_called_with() 메서드를 사용하면 해당 mock이 호출되었을 때 어떤 인자가 넘어왔는지까지도 검증할 수 있음."
   ]
  },
  {
   "cell_type": "code",
   "execution_count": 25,
   "metadata": {},
   "outputs": [],
   "source": [
    "mock = Mock()\n",
    "mock('A', B='C')\n",
    "mock.assert_called_with('A', B='C')"
   ]
  },
  {
   "cell_type": "markdown",
   "metadata": {},
   "source": [
    "assert_not_called() 메서드는 지금까지와 반대로 해당 mock이 호출된 적이 없는지 검증할 때 쓰임."
   ]
  },
  {
   "cell_type": "code",
   "execution_count": 28,
   "metadata": {},
   "outputs": [
    {
     "data": {
      "text/plain": [
       "<Mock name='mock()' id='2513548014728'>"
      ]
     },
     "execution_count": 28,
     "metadata": {},
     "output_type": "execute_result"
    }
   ],
   "source": [
    "mock = Mock()\n",
    "mock.assert_not_called()\n",
    "mock()\n"
   ]
  },
  {
   "cell_type": "code",
   "execution_count": 29,
   "metadata": {},
   "outputs": [
    {
     "ename": "AssertionError",
     "evalue": "Expected 'mock' to not have been called. Called 1 times.",
     "output_type": "error",
     "traceback": [
      "\u001b[1;31m---------------------------------------------------------------------------\u001b[0m",
      "\u001b[1;31mAssertionError\u001b[0m                            Traceback (most recent call last)",
      "\u001b[1;32m<ipython-input-29-b6e564c9918c>\u001b[0m in \u001b[0;36m<module>\u001b[1;34m\u001b[0m\n\u001b[1;32m----> 1\u001b[1;33m \u001b[0mmock\u001b[0m\u001b[1;33m.\u001b[0m\u001b[0massert_not_called\u001b[0m\u001b[1;33m(\u001b[0m\u001b[1;33m)\u001b[0m\u001b[1;33m\u001b[0m\u001b[1;33m\u001b[0m\u001b[0m\n\u001b[0m",
      "\u001b[1;32m~\\anaconda3\\lib\\unittest\\mock.py\u001b[0m in \u001b[0;36massert_not_called\u001b[1;34m(_mock_self)\u001b[0m\n\u001b[0;32m    838\u001b[0m             msg = (\"Expected '%s' to not have been called. Called %s times.\" %\n\u001b[0;32m    839\u001b[0m                    (self._mock_name or 'mock', self.call_count))\n\u001b[1;32m--> 840\u001b[1;33m             \u001b[1;32mraise\u001b[0m \u001b[0mAssertionError\u001b[0m\u001b[1;33m(\u001b[0m\u001b[0mmsg\u001b[0m\u001b[1;33m)\u001b[0m\u001b[1;33m\u001b[0m\u001b[1;33m\u001b[0m\u001b[0m\n\u001b[0m\u001b[0;32m    841\u001b[0m \u001b[1;33m\u001b[0m\u001b[0m\n\u001b[0;32m    842\u001b[0m     \u001b[1;32mdef\u001b[0m \u001b[0massert_called\u001b[0m\u001b[1;33m(\u001b[0m\u001b[0m_mock_self\u001b[0m\u001b[1;33m)\u001b[0m\u001b[1;33m:\u001b[0m\u001b[1;33m\u001b[0m\u001b[1;33m\u001b[0m\u001b[0m\n",
      "\u001b[1;31mAssertionError\u001b[0m: Expected 'mock' to not have been called. Called 1 times."
     ]
    }
   ],
   "source": [
    "mock.assert_not_called()"
   ]
  },
  {
   "cell_type": "markdown",
   "metadata": {},
   "source": [
    "# 테스트의 경계 정하기"
   ]
  },
  {
   "cell_type": "markdown",
   "metadata": {},
   "source": [
    "- 무엇을 테스트할 지 주의하지 않으면 계속 테스트만 하고 시간 버릴 수 있다\n",
    "- 테스트의 범위는 우리가 작성한 코드의 범위까지\n",
    "- 외부 라이브러리 모듈과 같은 의존성까지 확인해야한다면 진짜 끝도 없을 것임\n",
    "- 결론적으로, 외부라이브러리 쓸때는 올바른 파라미터 넣었을 때 정상적으로 호출된다는 것까지만 확인해주면 된다.\n",
    "- "
   ]
  },
  {
   "cell_type": "markdown",
   "metadata": {},
   "source": [
    "여기까지?\n"
   ]
  },
  {
   "cell_type": "code",
   "execution_count": null,
   "metadata": {},
   "outputs": [],
   "source": []
  },
  {
   "cell_type": "code",
   "execution_count": null,
   "metadata": {},
   "outputs": [],
   "source": []
  },
  {
   "cell_type": "code",
   "execution_count": null,
   "metadata": {},
   "outputs": [],
   "source": []
  },
  {
   "cell_type": "markdown",
   "metadata": {},
   "source": [
    "# 테스트를 위한 프레임 워크와 도구\n",
    "- 거의 모든 시나리오를 다룰 수 있는 두가지 도구 소개\n",
    "\n",
    "## 단위테스트 프레임워크와 라이브러리\n",
    "- 테스트 시나리오는 unittest라이브러리만으로 충분\n",
    "- 외부 시스템에 연결하는 등의 \"의존성\"이 많은 경우테스트 케이스를 파라미터화 할 수 있는 픽스쳐라는 패치 객체가필요=> pytest"
   ]
  },
  {
   "cell_type": "markdown",
   "metadata": {},
   "source": [
    "Merge Request에 대해 코드 리뷰를 도와주는 간단한 버전 제어 도구\n",
    "\n",
    "- 전제조건\n",
    "    - 한 명 이상의 사용자가 변경 내용에 동의 하지 않은 경우 머지 리퀘스트가 거절(reject)된다.\n",
    "    - 아무도 반대하지 않은 상태에서 두 명 이상의 개발자가 동의하면 해당 머지 리퀘스트는 승인 된다\n",
    "    - 이외의 상태는 보류 상태이다\n",
    "\n",
    "코드는 다음과 같다."
   ]
  },
  {
   "cell_type": "code",
   "execution_count": 30,
   "metadata": {},
   "outputs": [],
   "source": [
    "from enum import Enum\n",
    "\n",
    "class MergeRequestStatus(Enum):\n",
    "    APPROVED = \"approved\"\n",
    "    REJECTED = \"rejected\"\n",
    "    PENDING = \"pending\"\n",
    "\n",
    "class MergeRequest:\n",
    "    def __init__(self):\n",
    "        self._context = {\n",
    "            \"upvotes\": set(), \n",
    "            \"downvotes\": set(),\n",
    "\t\t\t\t}\n",
    "\n",
    "@property\n",
    "def status(self):\n",
    "    if self._context[\"downvotes\"]:\n",
    "        return MergeRequestStatus.REJECTED\n",
    "    elif len(self._context[\"upvotes\"]) >= 2:\n",
    "        return MergeRequestStatus.APPROVED\n",
    "    return MergeRequestStatus.PENDING\n",
    "\n",
    "def upvote(self, by_user):\n",
    "    self._context[\"downvotes\"].discard(by_user)\n",
    "    self._context[\"upvotes\"].add(by_user)\n",
    "\n",
    "def downvote(self, by_user):\n",
    "    self._context[\"upvotes\"].discard(by_user)\n",
    "    self._context[\"downvotes\"].add(by_user)\n",
    "\n"
   ]
  },
  {
   "cell_type": "markdown",
   "metadata": {},
   "source": [
    "### [unittest]\n",
    "\n",
    "unittest모듈은 모든 종류의 테스트를 작성할 수 있는 풍부한 API를 제공하므로 단위 테스트를 시작하기에 훌륭한 선택이다. \n",
    "\n",
    "표준라이브러리라 사용이 편리하다.\n",
    "\n",
    "unittest 모듈은 자바의 JUnit을 기반으로 한다.(Smalltalk 기반으로 만들어졌으며, 객체지향적)\n",
    "\n",
    "테스트는 객체를 사용해 작성되며 클래스의 시나리오 별로 테스트를 그룹화하는 것이 일반적이다."
   ]
  },
  {
   "cell_type": "markdown",
   "metadata": {},
   "source": [
    "단위테스트 정의 방법:\n",
    "\n",
    "1. unittest.TestCase를 상속\n",
    "2. 테스트 클래스 생성\n",
    "3. 메서드에 테스트할 조건을 정의"
   ]
  },
  {
   "cell_type": "markdown",
   "metadata": {},
   "source": [
    "메서드는 test_ 로 시작해야하며, 예시에서는 unittest.TestCase에서 상속받은 메서드를 사용하여 체크하려는 조건이 참인지 확인하면 된다."
   ]
  },
  {
   "cell_type": "code",
   "execution_count": null,
   "metadata": {},
   "outputs": [],
   "source": [
    "\n",
    "class TestMergeRequestStatus(unittest.TestCase):\n",
    "    \n",
    "    def test_simple_rejected(self):\n",
    "        merge_request = MergeRequest()\n",
    "        merge_request.downvote(\"maintainer\")\n",
    "        self.assertEqual(merge_request.status, MergeRequestStatus.REJECTED)\n",
    "\n",
    "    def test_just_created_is_pending(self):\n",
    "        self.assertEqual(MergeRequest().status, MergeRequestStatus.PENDING)\n",
    "    \n",
    "    def test_pending_awaiting_review(self):\n",
    "        merge_request = MergeRequest()\n",
    "        merge_request.upvote(\"core-dev\")\n",
    "        self.assertEqual(merge_request.status, MergeRequestStatus.PENDING)\n",
    "\n",
    "    def test_approved(self):\n",
    "        merge_request = MergeRequest()\n",
    "        merge_request.upvote(\"dev1\")\n",
    "        merge_request.upvote(\"dev2\")\n",
    "        self.assertEqual(merge_request.status, MergeRequestStatus.APPROVED)\n"
   ]
  },
  {
   "cell_type": "markdown",
   "metadata": {},
   "source": [
    "ssertEquals(actual, expected,[, message] : 예상값과 실제 값을 비교"
   ]
  },
  {
   "cell_type": "markdown",
   "metadata": {},
   "source": [
    "사용자가 머지  리퀘스트를 종료할 수 있도록 함\n",
    "\n",
    "병합을 종료하면 더이상 투표 할 수 없다.\n",
    "\n",
    "누군가가 종료된 머지 리퀘스트에 투표를 시도하면 예외를 발생시키도록 함"
   ]
  },
  {
   "cell_type": "code",
   "execution_count": 32,
   "metadata": {},
   "outputs": [],
   "source": [
    "class MergeRequest:\n",
    "    def __init__(self):\n",
    "        sef._context = {\n",
    "            \"upvotes\": set(),\n",
    "            \"downvotes\": set(),\n",
    "        }\n",
    "        self._status = MergeRequestStatus.OPEN\n",
    "    \n",
    "    def close(self):\n",
    "        self._status = MergeRequestStatus.CLOSED## 새로 추가된 매써드\n",
    "    ... \n",
    "    def _cannot_vote_if_closed(self): \n",
    "        if self._status == MergeRequestStatus.CLOSED:\n",
    "            raise MergeRequestException(\"종료된 머지 리퀘스트에 투표할 수 없음\")\n",
    "    \n",
    "    def upvote(self, by_user):\n",
    "        self._cannot_vote_if_closed()\n",
    "\n",
    "        self._context[\"downvotes\"].discard(by_user)\n",
    "        self._context[\"upvotes\"].add(by_user)\n",
    "\n",
    "    def downvote(self, by_user):\n",
    "        self._cannot_vote_if_closed()\n",
    "\n",
    "        self._context[\"upvotes\"].discard(by_user)\n",
    "        self._context[\"downvotes\"].discard(by_user)"
   ]
  },
  {
   "cell_type": "markdown",
   "metadata": {},
   "source": [
    "유효성 검사가 실제로 작동하는 지 확인하기 위해 assertRaise, assertRaisesRegex 메서드 사용"
   ]
  },
  {
   "cell_type": "code",
   "execution_count": null,
   "metadata": {},
   "outputs": [],
   "source": [
    "\n",
    "# 제공한 예외가 실제로 발생하는지 확인\n",
    "# 두번째 파라미터로 호출 가능한 객체를 전달하고 나머지 파라미터에 호출에 필요한 파라미터를(*args와 **kwargs) 전달\n",
    "# assertRaises(exc, fun, *args, **kwds)\n",
    "def test_cannot_upvote_on_closed_merge_request(self):\n",
    "    self.merge_request.close()\n",
    "    self.assertRaises(\n",
    "        MergeRequestException, self.merge_request.upvote, \"dev1\"\n",
    "    )\n",
    "\n",
    "# 동일한 방식으로 처리하지만 발생한 예외의 메시지가 제공된 정규식과 일치하는지 확인\n",
    "# 예외가 발생했지만 정규 표현식과 일치하지 않는 다른 메시지가 있는 경우에도 테스트에 실패\n",
    "# assertRaisesRegex(exc, r, fun, *args, **kwds)\n",
    "def test_cannot_downvote_on_closed_merge_request(self):\n",
    "    self.merge_request.close()\n",
    "    self.assertRaisesRegex(\n",
    "        \"종료된 머지 리퀘스트에 투표할 수 없음\",\n",
    "        self.merge_request.downvote,\n",
    "        \"dev1\",\n",
    "    )\n"
   ]
  },
  {
   "cell_type": "markdown",
   "metadata": {},
   "source": [
    "예외 발생여부 뿐만 아니라 오류 메시지도 잘 설정해서 확인하면, 우연히 같은 타입의 예외가 발생했으나 실제로는 다른 원인에 의한 경우를 제외 할 수 있다."
   ]
  },
  {
   "cell_type": "code",
   "execution_count": null,
   "metadata": {},
   "outputs": [],
   "source": []
  }
 ],
 "metadata": {
  "kernelspec": {
   "display_name": "Python 3",
   "language": "python",
   "name": "python3"
  },
  "language_info": {
   "codemirror_mode": {
    "name": "ipython",
    "version": 3
   },
   "file_extension": ".py",
   "mimetype": "text/x-python",
   "name": "python",
   "nbconvert_exporter": "python",
   "pygments_lexer": "ipython3",
   "version": "3.7.7"
  }
 },
 "nbformat": 4,
 "nbformat_minor": 4
}
